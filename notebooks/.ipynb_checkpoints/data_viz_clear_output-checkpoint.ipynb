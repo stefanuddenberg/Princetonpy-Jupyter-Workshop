{
 "cells": [
  {
   "cell_type": "markdown",
   "metadata": {
    "slideshow": {
     "slide_type": "slide"
    }
   },
   "source": [
    "# Imports"
   ]
  },
  {
   "cell_type": "code",
   "execution_count": null,
   "metadata": {},
   "outputs": [],
   "source": [
    "%reset -f\n",
    "%matplotlib inline \n",
    "%config InlineBackend.figure_format = \"retina\" # High-res graphs (rendered irrelevant by svg option below)\n",
    "%config InlineBackend.print_figure_kwargs = {\"bbox_inches\": \"tight\"} # No extra white space\n",
    "%config InlineBackend.figure_format = \"svg\" # \"png\" is default\n",
    " \n",
    "import warnings\n",
    "warnings.filterwarnings(\"ignore\") # Because we are adults\n",
    "from IPython.core.debugger import set_trace\n",
    "import altair as alt\n",
    "import matplotlib.pyplot as plt\n",
    "import numpy as np\n",
    "import pandas as pd\n",
    "import seaborn as sns\n",
    " \n",
    "# iPyPublish imports\n",
    "# from ipypublish.scripts.ipynb_latex_setup import *\n",
    "# from IPython.display import SVG, display, Markdown"
   ]
  },
  {
   "cell_type": "markdown",
   "metadata": {
    "slideshow": {
     "slide_type": "slide"
    }
   },
   "source": [
    "# Matplotlib\n",
    "The bread and butter for plotting in Python. See [here](https://matplotlib.org/tutorials/index.html) and [Ben Deverett's excellent notebook](https://github.com/bensondaled/princetonpy/tree/master/20181204) for tutorials."
   ]
  },
  {
   "cell_type": "markdown",
   "metadata": {
    "slideshow": {
     "slide_type": "subslide"
    }
   },
   "source": [
    "## xkcd Style Plots"
   ]
  },
  {
   "cell_type": "code",
   "execution_count": null,
   "metadata": {},
   "outputs": [],
   "source": [
    "with plt.xkcd():\n",
    "    # Based on \"Stove Ownership\" from XKCD by Randall Monroe\n",
    "    # http://xkcd.com/418/\n",
    "\n",
    "    fig = plt.figure()\n",
    "    ax = fig.add_axes((0.1, 0.2, 0.8, 0.7))\n",
    "    ax.spines['right'].set_color('none')\n",
    "    ax.spines['top'].set_color('none')\n",
    "    plt.xticks([])\n",
    "    plt.yticks([])\n",
    "    ax.set_ylim([-30, 10])\n",
    "\n",
    "    data = np.ones(100)\n",
    "    data[70:] -= np.arange(30)\n",
    "\n",
    "    plt.annotate(\n",
    "        'THE DAY I REALIZED\\nI COULD COOK BACON\\nWHENEVER I WANTED',\n",
    "        xy=(70, 1), arrowprops=dict(arrowstyle='->'), xytext=(15, -10))\n",
    "\n",
    "    plt.plot(data)\n",
    "\n",
    "    plt.xlabel('time')\n",
    "    plt.ylabel('my overall health')\n",
    "    fig.text(\n",
    "        0.5, 0.05,\n",
    "        '\"Stove Ownership\" from xkcd by Randall Monroe',\n",
    "        ha='center')"
   ]
  },
  {
   "cell_type": "code",
   "execution_count": null,
   "metadata": {
    "slideshow": {
     "slide_type": "subslide"
    }
   },
   "outputs": [],
   "source": [
    "with plt.xkcd():\n",
    "    # Based on \"The Data So Far\" from XKCD by Randall Monroe\n",
    "    # http://xkcd.com/373/\n",
    "\n",
    "    fig = plt.figure()\n",
    "    ax = fig.add_axes((0.1, 0.2, 0.8, 0.7))\n",
    "    ax.bar([0, 1], [0, 100], 0.25)\n",
    "    ax.spines['right'].set_color('none')\n",
    "    ax.spines['top'].set_color('none')\n",
    "    ax.xaxis.set_ticks_position('bottom')\n",
    "    ax.set_xticks([0, 1])\n",
    "    ax.set_xlim([-0.5, 1.5])\n",
    "    ax.set_ylim([0, 110])\n",
    "    ax.set_xticklabels(['CONFIRMED BY\\nEXPERIMENT', 'REFUTED BY\\nEXPERIMENT'])\n",
    "    plt.yticks([])\n",
    "\n",
    "    plt.title(\"CLAIMS OF SUPERNATURAL POWERS\")\n",
    "\n",
    "    fig.text(\n",
    "        0.5, -0.05,\n",
    "        '\"The Data So Far\" from xkcd by Randall Monroe',\n",
    "        ha='center')\n",
    "\n",
    "plt.show()"
   ]
  },
  {
   "cell_type": "markdown",
   "metadata": {
    "slideshow": {
     "slide_type": "slide"
    },
    "toc-hr-collapsed": false
   },
   "source": [
    "# Seaborn\n",
    "Wrapper around Matplotlib that makes plotting attractive figures easier."
   ]
  },
  {
   "cell_type": "markdown",
   "metadata": {
    "slideshow": {
     "slide_type": "subslide"
    }
   },
   "source": [
    "## Changing color palette"
   ]
  },
  {
   "cell_type": "code",
   "execution_count": null,
   "metadata": {},
   "outputs": [],
   "source": [
    "pal = sns.color_palette(\"husl\", 8)  # optionally set number of colors\n",
    "sns.set_palette(pal)\n",
    "sns.palplot(sns.color_palette())"
   ]
  },
  {
   "cell_type": "markdown",
   "metadata": {
    "slideshow": {
     "slide_type": "subslide"
    }
   },
   "source": [
    "## Default Seaborn color palette"
   ]
  },
  {
   "cell_type": "code",
   "execution_count": null,
   "metadata": {},
   "outputs": [],
   "source": [
    "sns.set_palette(\"tab10\")\n",
    "sns.palplot(sns.color_palette())"
   ]
  },
  {
   "cell_type": "markdown",
   "metadata": {
    "slideshow": {
     "slide_type": "subslide"
    }
   },
   "source": [
    "## Defining custom color palette"
   ]
  },
  {
   "cell_type": "code",
   "execution_count": null,
   "metadata": {},
   "outputs": [],
   "source": [
    "flatui = [\"#9b59b6\", \"#3498db\", \"#95a5a6\", \"#e74c3c\", \"#34495e\", \"#2ecc71\"]\n",
    "sns.set_palette(flatui)\n",
    "sns.palplot(sns.color_palette())"
   ]
  },
  {
   "cell_type": "markdown",
   "metadata": {
    "slideshow": {
     "slide_type": "subslide"
    }
   },
   "source": [
    "## Wes Anderson color palettes\n",
    "You can generate these with the wes Python package. \n",
    "\n",
    "That said, installation can be a little annoying, since you will often get an error for missing the colors.json file. If you get that error, simply [download the tarball of the latest version of the package](https://pypi.org/project/wes/0.1.5/), extract colors.json and place it in the appropriate location (i.e., where the error tells you it cannot be found)."
   ]
  },
  {
   "cell_type": "code",
   "execution_count": null,
   "metadata": {},
   "outputs": [],
   "source": [
    "import wes\n",
    "wes.available(show=True)\n",
    "# wes.set_palette('Darjeeling')"
   ]
  },
  {
   "cell_type": "markdown",
   "metadata": {
    "slideshow": {
     "slide_type": "subslide"
    }
   },
   "source": [
    "## Line plot"
   ]
  },
  {
   "cell_type": "code",
   "execution_count": null,
   "metadata": {},
   "outputs": [],
   "source": [
    "sns.set(style=\"ticks\")  # overwrites color palette\n",
    "\n",
    "# Load the example dataset for Anscombe's quartet\n",
    "anscombe = sns.load_dataset(\"anscombe\")\n",
    "\n",
    "# And of course, you can combine it with xkcd style if you want\n",
    "with plt.xkcd():\n",
    "    # Show the results of a linear regression within each dataset\n",
    "    # Semi-colon suppresses the non-graph output\n",
    "    ax = sns.lmplot(\n",
    "        x=\"x\",\n",
    "        y=\"y\",\n",
    "        col=\"dataset\",\n",
    "        hue=\"dataset\",\n",
    "        data=anscombe,\n",
    "        col_wrap=2,\n",
    "        ci=None,\n",
    "        height=4,  # palette=pal,\n",
    "        scatter_kws={\"s\": 50, \"alpha\": 1},\n",
    "    )\n",
    "\n",
    "    # Change axis labels\n",
    "    ax.set(xlabel=\"X\", ylabel=\"Y\");"
   ]
  },
  {
   "cell_type": "markdown",
   "metadata": {
    "slideshow": {
     "slide_type": "subslide"
    }
   },
   "source": [
    "## Bar chart\n",
    "Defaults to showing the 95% confidence interval."
   ]
  },
  {
   "cell_type": "code",
   "execution_count": null,
   "metadata": {},
   "outputs": [],
   "source": [
    "tips = sns.load_dataset(\"tips\")\n",
    "ax = sns.barplot(x=\"day\", y=\"total_bill\", data=tips, capsize=0.1)"
   ]
  },
  {
   "cell_type": "markdown",
   "metadata": {
    "slideshow": {
     "slide_type": "subslide"
    }
   },
   "source": [
    "## Subplots -- Violin plot with overlaid beeswarm plot"
   ]
  },
  {
   "cell_type": "code",
   "execution_count": null,
   "metadata": {},
   "outputs": [],
   "source": [
    "wes.set_palette(\"Darjeeling\")  # change the color scheme\n",
    "\n",
    "fig, ax = plt.subplots()\n",
    "\n",
    "# Output to the size of A4 paper\n",
    "fig.set_size_inches(11.7, 8.27)\n",
    "\n",
    "# Overlay a swarmplot on top of a violinplot\n",
    "ax = sns.violinplot(x=\"day\", y=\"total_bill\", data=tips, inner=None)\n",
    "ax = sns.swarmplot(x=\"day\", y=\"total_bill\", data=tips, color=\"white\")\n",
    "ax.set(xlabel=\"Day of the Week\", ylabel=\"Total Bill in $\");"
   ]
  },
  {
   "cell_type": "markdown",
   "metadata": {
    "slideshow": {
     "slide_type": "subslide"
    }
   },
   "source": [
    "## Factor plots (catplot)"
   ]
  },
  {
   "cell_type": "code",
   "execution_count": null,
   "metadata": {},
   "outputs": [],
   "source": [
    "def set_titles(thisPlot, titleList, fontSize):\n",
    "    for ax, title in zip(thisPlot.axes.flat, titleList):\n",
    "        ax.set_title(title, fontsize=fontSize)\n",
    "\n",
    "\n",
    "def set_labels(thisPlot, xLabel, yLabel, fontSize):\n",
    "    thisPlot.set_xlabels(xLabel, fontsize=fontSize)\n",
    "    thisPlot.set_ylabels(yLabel, fontsize=fontSize)\n",
    "\n",
    "\n",
    "def set_xtick_labels(thisPlot, tickList, fontSize):\n",
    "    thisPlot.set_xticklabels(tickList, fontsize=fontSize)\n",
    "\n",
    "\n",
    "def set_legend(thisPlot, legendEntries, fontSize):\n",
    "    # find where last graph is so we can put the legend there\n",
    "    maxIndex = max(thisPlot.axes.shape) - 1\n",
    "\n",
    "    # format the legend, placing it outside the axes\n",
    "    thisPlot.axes[0][maxIndex].legend(\n",
    "        bbox_to_anchor=(1.05, 1), loc=2, fontsize=fontSize, borderaxespad=0.0\n",
    "    )\n",
    "    legend = thisPlot.axes[0][maxIndex].get_legend()\n",
    "    labels = legend.get_texts()\n",
    "    for i, thisLabel in enumerate(labels):\n",
    "        labels[i].set_text(legendEntries[i])\n",
    "\n",
    "\n",
    "sns.set_palette(\"tab10\")\n",
    "\n",
    "# Make plots -- many of these arguments are optional\n",
    "barPlot = sns.catplot(\n",
    "    x=\"day\",\n",
    "    y=\"total_bill\",\n",
    "    hue=\"sex\",\n",
    "    col=\"time\",\n",
    "    kind=\"bar\",\n",
    "    data=tips,\n",
    "    height=5,\n",
    "    aspect=1,\n",
    "    legend=False,\n",
    ");\n",
    "\n",
    "beeswarmPlot = sns.catplot(\n",
    "    x=\"day\",\n",
    "    y=\"total_bill\",\n",
    "    hue=\"sex\",\n",
    "    col=\"time\",\n",
    "    kind=\"swarm\",\n",
    "    dodge=True,\n",
    "    data=tips,\n",
    "    height=5,\n",
    "    aspect=1,\n",
    "    legend=False,\n",
    ");\n",
    "\n",
    "# Format them nicely!\n",
    "# Axis labels\n",
    "xLabel = \"\"  # \"Day\"\n",
    "yLabel = \"Total Bill\"\n",
    "set_labels(barPlot, xLabel, yLabel, 20)\n",
    "set_labels(beeswarmPlot, xLabel, yLabel, 20)\n",
    "\n",
    "# Titles\n",
    "title_list = [\"Lunch\", \"Dinner\"]\n",
    "titles = [x.title() for x in title_list]  # [\"Bimodal\", \"Normal\", \"Skewed\"]\n",
    "set_titles(barPlot, titles, 30)\n",
    "set_titles(beeswarmPlot, titles, 30)\n",
    "\n",
    "# X axis tick labels or category labels\n",
    "x_tick_labels = [\"Thursday\", \"Friday\", \"Saturday\", \"Sunday\"]\n",
    "set_xtick_labels(barPlot, x_tick_labels, 15)\n",
    "set_xtick_labels(beeswarmPlot, x_tick_labels, 15)\n",
    "\n",
    "# Change legends\n",
    "legendEntries = [\"Male\", \"Female\"]\n",
    "set_legend(barPlot, legendEntries, 15)\n",
    "set_legend(beeswarmPlot, legendEntries, 15)\n",
    "\n",
    "# Save plots\n",
    "# barPlot.savefig(\"barPlot.svg\") # can also use other extensions, like .png\n",
    "# beeswarmPlot.savefig(\"beePlot.svg\")"
   ]
  },
  {
   "cell_type": "markdown",
   "metadata": {
    "slideshow": {
     "slide_type": "subslide"
    }
   },
   "source": [
    "## Layered histogram"
   ]
  },
  {
   "cell_type": "code",
   "execution_count": null,
   "metadata": {},
   "outputs": [],
   "source": [
    "import pandas as pd\n",
    "import altair as alt\n",
    "import numpy as np\n",
    "\n",
    "np.random.seed(42)\n",
    "\n",
    "# Generating Data\n",
    "source = pd.DataFrame(\n",
    "    {\n",
    "        \"Trial A\": np.random.normal(0, 0.8, 1000),\n",
    "        \"Trial B\": np.random.normal(-2, 1, 1000),\n",
    "        \"Trial C\": np.random.normal(3, 2, 1000),\n",
    "    }\n",
    ")\n",
    "\n",
    "# Tidying Data\n",
    "source = pd.melt(\n",
    "    source,\n",
    "    id_vars=source.index.name,\n",
    "    value_vars=source.columns,\n",
    "    var_name=\"Experiment\",\n",
    "    value_name=\"Measurement\",\n",
    ")\n",
    "\n",
    "alt.Chart(source).mark_area(opacity=0.3, interpolate=\"step\").encode(\n",
    "    alt.X(\"Measurement\", bin=alt.Bin(maxbins=100)),\n",
    "    alt.Y(\"count()\", stack=None),\n",
    "    alt.Color(\"Experiment\", scale=alt.Scale(range=[\"#0000ff\", \"#008000\", \"#ff0000\"])),\n",
    ")"
   ]
  },
  {
   "cell_type": "markdown",
   "metadata": {
    "slideshow": {
     "slide_type": "slide"
    }
   },
   "source": [
    "# Bokeh\n",
    "Interactive visualization library leveraging JavaScript. [See here for a video tutorial](https://www.youtube.com/watch?v=9FlUFLmaWvY) and [here for a notebook with various visualizations](https://github.com/claresloggett/demo_visualisation_python/blob/master/Demo_Visualisation.ipynb), including some made with Bokeh."
   ]
  },
  {
   "cell_type": "code",
   "execution_count": null,
   "metadata": {},
   "outputs": [],
   "source": [
    "from bokeh.plotting import figure, output_notebook, show\n",
    "\n",
    "this_plot = figure(width=600, height=600)\n",
    "\n",
    "this_plot.circle(x=tips[\"total_bill\"], y=tips[\"tip\"], size=10, alpha=0.7)\n",
    "output_notebook()  # to output inline\n",
    "show(this_plot)"
   ]
  },
  {
   "cell_type": "markdown",
   "metadata": {
    "slideshow": {
     "slide_type": "subslide"
    }
   },
   "source": [
    "## More interactive plot\n",
    "Let's plot a scatterplot of tip amount vs. total bill, separately for men and women.\n",
    "\n",
    "[See here for more information on styling Bokeh plots.](https://bokeh.pydata.org/en/latest/docs/user_guide/styling.html)"
   ]
  },
  {
   "cell_type": "code",
   "execution_count": null,
   "metadata": {},
   "outputs": [],
   "source": [
    "from bokeh.plotting import figure, output_notebook, show, ColumnDataSource\n",
    "import bokeh.models.tools as tools\n",
    "\n",
    "# Get relevant subsets of data\n",
    "male_data = tips[tips[\"sex\"] == \"Male\"]\n",
    "female_data = tips[tips[\"sex\"] == \"Female\"]\n",
    "\n",
    "# Convert to format bokeh understands\n",
    "source_male = ColumnDataSource(male_data)\n",
    "source_female = ColumnDataSource(female_data)\n",
    "\n",
    "# Set up figure\n",
    "this_plot = figure(width=600, height=600)\n",
    "\n",
    "this_plot.circle(\n",
    "    source=source_male,\n",
    "    x=\"total_bill\",\n",
    "    y=\"tip\",\n",
    "    color=\"teal\",\n",
    "    size=10,\n",
    "    alpha=0.7,\n",
    "    legend=\"Men\",\n",
    ")\n",
    "\n",
    "this_plot.circle(\n",
    "    source=source_female,\n",
    "    x=\"total_bill\",\n",
    "    y=\"tip\",\n",
    "    color=\"darkorange\",\n",
    "    size=10,\n",
    "    alpha=0.7,\n",
    "    legend=\"Women\",\n",
    ")\n",
    "\n",
    "# Set axis labels\n",
    "this_plot.xaxis.axis_label = \"Total Bill\"\n",
    "this_plot.yaxis.axis_label = \"Tip Amount\"\n",
    "\n",
    "# Show information when hovering the mouse over datapoints\n",
    "this_plot.add_tools(tools.HoverTool(tooltips=[(\"Day\", \"@day\")]))  # @ chooses feature\n",
    "\n",
    "# Hide all circles of a given category when clicked in legend\n",
    "this_plot.legend.click_policy = \"hide\"\n",
    "\n",
    "output_notebook()\n",
    "show(this_plot)"
   ]
  },
  {
   "cell_type": "markdown",
   "metadata": {
    "slideshow": {
     "slide_type": "slide"
    }
   },
   "source": [
    "# Pivot table plots"
   ]
  },
  {
   "cell_type": "code",
   "execution_count": null,
   "metadata": {},
   "outputs": [],
   "source": [
    "from pivottablejs import pivot_ui\n",
    "pivot_ui(tips)"
   ]
  },
  {
   "cell_type": "markdown",
   "metadata": {
    "slideshow": {
     "slide_type": "slide"
    }
   },
   "source": [
    "# Dash/Plotly\n",
    "[Dash/Plotly](https://plot.ly/products/dash/) is another package for producing really nice and interactive graphs, but it requires signing up for an account to initialize it. After initialization you can use it online by default (which means all of your graphs get saved to the cloud for everyone to see forever) or you can use it offline (as demoed below). Examples taken or modified from [here](https://plot.ly/python/ipython-notebook-tutorial/).  \n",
    "\n",
    "I'm not familiar with the new Dash API that's been recently introduced, nor have I really explored using Plotly. I've been able to get everything that I need done in Matplotlib/Seaborn, so understand that the code snippets below may no longer work with recent versions of the Plotly package (which seems like a different thing to Dash)."
   ]
  },
  {
   "cell_type": "markdown",
   "metadata": {
    "slideshow": {
     "slide_type": "skip"
    }
   },
   "source": [
    "## Troubleshooting setup\n",
    "When I first tried using plotly I sometimes got `IOPub data rate exceeded` errors. Here's how you fix that:\n",
    "\n",
    "- run `jupyter notebook --generate-config` to generate a clean configuration file with all parameters commented out\n",
    "- modify `c.NotebookApp.iopub_data_rate_limit` and `c.NotebookApp.iopub_msg_rate_limit` to be some absurdly large numbers"
   ]
  },
  {
   "cell_type": "markdown",
   "metadata": {
    "slideshow": {
     "slide_type": "subslide"
    }
   },
   "source": [
    "## Simple line graph"
   ]
  },
  {
   "cell_type": "code",
   "execution_count": null,
   "metadata": {},
   "outputs": [],
   "source": [
    "import plotly\n",
    "# initialize with your credentials -- only need to do once ever in life, \n",
    "# not even once per notebook.\n",
    "# plotly.tools.set_credentials_file(username='XXX', api_key='XXX') \n",
    "from plotly.graph_objs import Scatter, Layout\n",
    "\n",
    "plotly.offline.init_notebook_mode(connected=True)\n",
    "\n",
    "plotly.offline.iplot({\n",
    "    \"data\": [Scatter(x=[1, 2, 3, 4], y=[4, 3, 2, 1])],\n",
    "    \"layout\": Layout(title=\"hello world\")\n",
    "})"
   ]
  },
  {
   "cell_type": "markdown",
   "metadata": {
    "slideshow": {
     "slide_type": "subslide"
    }
   },
   "source": [
    "## Tables"
   ]
  },
  {
   "cell_type": "code",
   "execution_count": null,
   "metadata": {},
   "outputs": [],
   "source": [
    "import plotly.offline as py\n",
    "import plotly.figure_factory as ff\n",
    "\n",
    "df = pd.read_csv(\"https://raw.githubusercontent.com/plotly/datasets/master/school_earnings.csv\")\n",
    "\n",
    "table = ff.create_table(df)\n",
    "py.iplot(table, filename='plotly\\table1')"
   ]
  },
  {
   "cell_type": "markdown",
   "metadata": {
    "slideshow": {
     "slide_type": "subslide"
    }
   },
   "source": [
    "## Bar graphs"
   ]
  },
  {
   "cell_type": "code",
   "execution_count": null,
   "metadata": {},
   "outputs": [],
   "source": [
    "import plotly.offline as py\n",
    "from plotly.graph_objs import *\n",
    "data = [Bar(x=df.School,\n",
    "            y=df.Gap)]\n",
    "\n",
    "py.iplot(data)"
   ]
  },
  {
   "cell_type": "code",
   "execution_count": null,
   "metadata": {
    "slideshow": {
     "slide_type": "subslide"
    }
   },
   "outputs": [],
   "source": [
    "trace_women = Bar(x=df.School,\n",
    "                  y=df.Women,\n",
    "                  name='Women',\n",
    "                  marker=dict(color='#ffcdd2'))\n",
    "\n",
    "trace_men = Bar(x=df.School,\n",
    "                y=df.Men,\n",
    "                name='Men',\n",
    "                marker=dict(color='#A2D5F2'))\n",
    "\n",
    "trace_gap = Bar(x=df.School,\n",
    "                y=df.Gap,\n",
    "                name='Gap',\n",
    "                marker=dict(color='#59606D'))\n",
    "\n",
    "data = [trace_women, trace_men, trace_gap]\n",
    "layout = Layout(title=\"Average Earnings for Graduates\",\n",
    "                xaxis=dict(title='School'),\n",
    "                yaxis=dict(title='Salary (in thousands)'))\n",
    "fig = Figure(data=data, layout=layout)\n",
    "\n",
    "py.iplot(fig)"
   ]
  },
  {
   "cell_type": "markdown",
   "metadata": {
    "slideshow": {
     "slide_type": "slide"
    }
   },
   "source": [
    "# Interactive Slider"
   ]
  },
  {
   "cell_type": "code",
   "execution_count": null,
   "metadata": {},
   "outputs": [],
   "source": [
    "data = [\n",
    "    dict(\n",
    "        visible=False,\n",
    "        line=dict(color=\"#00CED1\", width=6),\n",
    "        name=\"𝜈 = \" + str(step),\n",
    "        x=np.arange(0, 10, 0.01),\n",
    "        y=np.sin(step * np.arange(0, 10, 0.01)),\n",
    "    )\n",
    "    for step in np.arange(0, 5, 0.1)\n",
    "]\n",
    "data[10][\"visible\"] = True\n",
    "\n",
    "steps = []\n",
    "for i in range(len(data)):\n",
    "    step = dict(method=\"restyle\", args=[\"visible\", [False] * len(data)])\n",
    "    step[\"args\"][1][i] = True  # Toggle i'th trace to \"visible\"\n",
    "    steps.append(step)\n",
    "\n",
    "sliders = [\n",
    "    dict(active=10, currentvalue={\"prefix\": \"Frequency: \"}, pad={\"t\": 50}, steps=steps)\n",
    "]\n",
    "\n",
    "layout = dict(sliders=sliders)\n",
    "fig = dict(data=data, layout=layout)\n",
    "\n",
    "py.iplot(fig)\n"
   ]
  },
  {
   "cell_type": "markdown",
   "metadata": {
    "slideshow": {
     "slide_type": "subslide"
    }
   },
   "source": [
    "## Interactive 3D Plot"
   ]
  },
  {
   "cell_type": "code",
   "execution_count": null,
   "metadata": {},
   "outputs": [],
   "source": [
    "s = np.linspace(0, 2 * np.pi, 240)\n",
    "t = np.linspace(0, np.pi, 240)\n",
    "tGrid, sGrid = np.meshgrid(s, t)\n",
    "\n",
    "r = 2 + np.sin(7 * sGrid + 5 * tGrid)  # r = 2 + sin(7s+5t)\n",
    "x = r * np.cos(sGrid) * np.sin(tGrid)  # x = r*cos(s)*sin(t)\n",
    "y = r * np.sin(sGrid) * np.sin(tGrid)  # y = r*sin(s)*sin(t)\n",
    "z = r * np.cos(tGrid)  # z = r*cos(t)\n",
    "\n",
    "surface = Surface(x=x, y=y, z=z)\n",
    "data = Data([surface])\n",
    "\n",
    "layout = Layout(\n",
    "    title=\"Parametric Plot\",\n",
    "    scene=Scene(\n",
    "        xaxis=XAxis(\n",
    "            gridcolor=\"rgb(255, 255, 255)\",\n",
    "            zerolinecolor=\"rgb(255, 255, 255)\",\n",
    "            showbackground=True,\n",
    "            backgroundcolor=\"rgb(230, 230,230)\",\n",
    "        ),\n",
    "        yaxis=YAxis(\n",
    "            gridcolor=\"rgb(255, 255, 255)\",\n",
    "            zerolinecolor=\"rgb(255, 255, 255)\",\n",
    "            showbackground=True,\n",
    "            backgroundcolor=\"rgb(230, 230,230)\",\n",
    "        ),\n",
    "        zaxis=ZAxis(\n",
    "            gridcolor=\"rgb(255, 255, 255)\",\n",
    "            zerolinecolor=\"rgb(255, 255, 255)\",\n",
    "            showbackground=True,\n",
    "            backgroundcolor=\"rgb(230, 230,230)\",\n",
    "        ),\n",
    "    ),\n",
    ")\n",
    "\n",
    "fig = Figure(data=data, layout=layout)\n",
    "py.iplot(fig)\n"
   ]
  },
  {
   "cell_type": "markdown",
   "metadata": {
    "slideshow": {
     "slide_type": "slide"
    }
   },
   "source": [
    "# ggplot (plotnine)\n",
    "If you have a background in R, you can use the plotnine library as a plug-in replacement for ggplot in Python. It has the same API you're familiar with. Combine with [dfply](https://github.com/kieferk/dfply) and pandas for a very good implementation of the tidyverse in Python."
   ]
  },
  {
   "cell_type": "code",
   "execution_count": null,
   "metadata": {},
   "outputs": [],
   "source": [
    "from plotnine import *\n",
    "\n",
    "iris = sns.load_dataset(\"iris\")\n",
    "\n",
    "(\n",
    "    ggplot(iris)\n",
    "    + aes(x=\"sepal_length\", y=\"petal_length\", colour=\"species\")\n",
    "    + geom_point()\n",
    ")\n"
   ]
  },
  {
   "cell_type": "markdown",
   "metadata": {
    "slideshow": {
     "slide_type": "slide"
    }
   },
   "source": [
    "# PyViz (holoviews)\n",
    "\n",
    "[See here for tutorial.](http://pyviz.org/tutorial/scipy18)"
   ]
  },
  {
   "cell_type": "markdown",
   "metadata": {},
   "source": [
    "## Scatterplot matrix"
   ]
  },
  {
   "cell_type": "code",
   "execution_count": null,
   "metadata": {},
   "outputs": [],
   "source": [
    "import holoviews as hv\n",
    "import hvplot\n",
    "import hvplot.pandas\n",
    "hv.extension(\"bokeh\") # use bokeh backend\n",
    "\n",
    "iris = sns.load_dataset(\"iris\")\n",
    "hvplot.scatter_matrix(iris, c='species')"
   ]
  },
  {
   "cell_type": "markdown",
   "metadata": {
    "slideshow": {
     "slide_type": "subslide"
    }
   },
   "source": [
    "## Time series"
   ]
  },
  {
   "cell_type": "code",
   "execution_count": null,
   "metadata": {},
   "outputs": [],
   "source": [
    "# Get data\n",
    "diseases = pd.read_csv(\"data/diseases.csv.gz\")\n",
    "diseases.head()"
   ]
  },
  {
   "cell_type": "markdown",
   "metadata": {
    "slideshow": {
     "slide_type": "subslide"
    }
   },
   "source": [
    "### Static plot with pandas"
   ]
  },
  {
   "cell_type": "code",
   "execution_count": null,
   "metadata": {},
   "outputs": [],
   "source": [
    "measles_by_year = diseases[[\"Year\",\"measles\"]].groupby(\"Year\").aggregate(np.sum)\n",
    "measles_by_year.plot();"
   ]
  },
  {
   "cell_type": "markdown",
   "metadata": {
    "slideshow": {
     "slide_type": "subslide"
    }
   },
   "source": [
    "### Same thing with dfply"
   ]
  },
  {
   "cell_type": "code",
   "execution_count": null,
   "metadata": {
    "scrolled": false
   },
   "outputs": [],
   "source": [
    "from dfply import *\n",
    "measles_by_year = (\n",
    "    diseases\n",
    "    >> select(X.Year, X.measles)\n",
    "    >> group_by(X.Year)\n",
    "    >> summarize_each([np.sum], X.measles)\n",
    ")\n",
    "measles_by_year.set_index(\"Year\", inplace=True)\n",
    "measles_by_year.plot();"
   ]
  },
  {
   "cell_type": "markdown",
   "metadata": {
    "slideshow": {
     "slide_type": "subslide"
    }
   },
   "source": [
    "## Interactive plot with holoviews"
   ]
  },
  {
   "cell_type": "code",
   "execution_count": null,
   "metadata": {},
   "outputs": [],
   "source": [
    "measles_by_year.hvplot()"
   ]
  },
  {
   "cell_type": "markdown",
   "metadata": {
    "slideshow": {
     "slide_type": "subslide"
    }
   },
   "source": [
    "## Annotating figure\n",
    "Show when measles vaccine was introduced with a vertical line."
   ]
  },
  {
   "cell_type": "code",
   "execution_count": null,
   "metadata": {
    "slideshow": {
     "slide_type": "-"
    }
   },
   "outputs": [],
   "source": [
    "vline = hv.VLine(1963).opts(color='black')\n",
    "g = measles_by_year.hvplot() * vline * \\\n",
    "    hv.Text(1963, 27000, \" Vaccine introduced\", halign='left')\n",
    "g"
   ]
  },
  {
   "cell_type": "markdown",
   "metadata": {
    "slideshow": {
     "slide_type": "subslide"
    }
   },
   "source": [
    "## Dropdown menus"
   ]
  },
  {
   "cell_type": "code",
   "execution_count": null,
   "metadata": {},
   "outputs": [],
   "source": [
    "measles_agg = diseases.groupby(['Year', 'State'])['measles'].sum()\n",
    "measles_by_state = measles_agg.hvplot('Year', groupby='State', width=500, dynamic=False)\n",
    "\n",
    "measles_by_state * vline"
   ]
  },
  {
   "cell_type": "markdown",
   "metadata": {
    "slideshow": {
     "slide_type": "slide"
    },
    "toc-hr-collapsed": false
   },
   "source": [
    "# Altair"
   ]
  },
  {
   "cell_type": "markdown",
   "metadata": {},
   "source": [
    "Declarative plotting library with a lot of useful chart types. Examples below are taken from [here](https://altair-viz.github.io/gallery/)."
   ]
  },
  {
   "cell_type": "markdown",
   "metadata": {
    "slideshow": {
     "slide_type": "subslide"
    }
   },
   "source": [
    "## Simple scatterplot with tooltips"
   ]
  },
  {
   "cell_type": "code",
   "execution_count": null,
   "metadata": {},
   "outputs": [],
   "source": [
    "from vega_datasets import data\n",
    "\n",
    "# Enable notebook renderer once per session\n",
    "# only necessary in jupyter notebook, not jupyter lab.\n",
    "# alt.renderers.enable(\"notebook\")\n",
    "\n",
    "cars = data.cars()\n",
    "\n",
    "alt.Chart(cars).mark_circle(size=60).encode(\n",
    "    x=\"Miles_per_Gallon\",\n",
    "    y=\"Horsepower\",\n",
    "    color=\"Origin\",\n",
    "    tooltip=[\"Name\", \"Origin\", \"Horsepower\", \"Miles_per_Gallon\"],\n",
    ").interactive()"
   ]
  },
  {
   "cell_type": "markdown",
   "metadata": {},
   "source": [
    "## Interval selection"
   ]
  },
  {
   "cell_type": "code",
   "execution_count": null,
   "metadata": {},
   "outputs": [],
   "source": [
    "# Can choose just x, just y, or both as below for interval\n",
    "interval = alt.selection_interval(encodings=[\"x\", \"y\"])\n",
    "\n",
    "chart = alt.Chart(cars).mark_circle(size=60).encode(\n",
    "    x=\"Miles_per_Gallon\",\n",
    "    y=\"Horsepower\",\n",
    "    color=alt.condition(interval, \"Origin\", alt.value(\"lightgray\")),\n",
    "    tooltip=[\"Name\", \"Origin\", \"Horsepower\", \"Miles_per_Gallon\"],\n",
    ").properties(\n",
    "    selection=interval\n",
    ")"
   ]
  },
  {
   "cell_type": "markdown",
   "metadata": {},
   "source": [
    "## Placing figures side by side with `|`\n",
    "The figures will be linked."
   ]
  },
  {
   "cell_type": "code",
   "execution_count": null,
   "metadata": {},
   "outputs": [],
   "source": [
    "concatenated_chart = chart | chart.encode(x=\"Acceleration\")"
   ]
  },
  {
   "cell_type": "markdown",
   "metadata": {
    "slideshow": {
     "slide_type": "subslide"
    }
   },
   "source": [
    "## Scatterplot matrix"
   ]
  },
  {
   "cell_type": "code",
   "execution_count": null,
   "metadata": {},
   "outputs": [],
   "source": [
    "alt.Chart(cars).mark_circle().encode(\n",
    "    alt.X(alt.repeat(\"column\"), type=\"quantitative\"),\n",
    "    alt.Y(alt.repeat(\"row\"), type=\"quantitative\"),\n",
    "    color=\"Origin:N\",\n",
    ").properties(width=150, height=150).repeat(\n",
    "    row=[\"Horsepower\", \"Acceleration\", \"Miles_per_Gallon\"],\n",
    "    column=[\"Miles_per_Gallon\", \"Acceleration\", \"Horsepower\"],\n",
    ").interactive()"
   ]
  },
  {
   "cell_type": "markdown",
   "metadata": {},
   "source": [
    "## Exporting to HTML"
   ]
  },
  {
   "cell_type": "code",
   "execution_count": null,
   "metadata": {},
   "outputs": [],
   "source": [
    "concatenated_chart.save(\"concat.html\")"
   ]
  },
  {
   "cell_type": "markdown",
   "metadata": {
    "slideshow": {
     "slide_type": "slide"
    }
   },
   "source": [
    "# Conclusion"
   ]
  },
  {
   "cell_type": "markdown",
   "metadata": {
    "slideshow": {
     "slide_type": "-"
    }
   },
   "source": [
    "As you can see, there is no shortage of powerful visualization options in Python. That said, I'm still partial to seaborn and matplotlib for making publication-quality static figures (but I'm very excited about the possibilities Altair brings to data exploration)."
   ]
  },
  {
   "cell_type": "code",
   "execution_count": null,
   "metadata": {},
   "outputs": [],
   "source": [
    "sns.pairplot(iris, hue=\"species\");"
   ]
  }
 ],
 "metadata": {
  "celltoolbar": "Slideshow",
  "hide_input": false,
  "jupytext": {
   "metadata_filter": {
    "cells": {
     "additional": "all"
    },
    "notebook": {
     "additional": "all"
    }
   },
   "text_representation": {
    "extension": ".md",
    "format_name": "markdown",
    "format_version": "1.0",
    "jupytext_version": "0.8.6"
   }
  },
  "kernelspec": {
   "display_name": "Python 3",
   "language": "python",
   "name": "python3"
  },
  "language_info": {
   "codemirror_mode": {
    "name": "ipython",
    "version": 3
   },
   "file_extension": ".py",
   "mimetype": "text/x-python",
   "name": "python",
   "nbconvert_exporter": "python",
   "pygments_lexer": "ipython3",
   "version": "3.6.7"
  },
  "rise": {
   "theme": "moon"
  },
  "toc": {
   "base_numbering": 1,
   "nav_menu": {},
   "number_sections": true,
   "sideBar": true,
   "skip_h1_title": false,
   "title_cell": "Table of Contents",
   "title_sidebar": "Contents",
   "toc_cell": false,
   "toc_position": {},
   "toc_section_display": "block",
   "toc_window_display": false
  },
  "varInspector": {
   "cols": {
    "lenName": 16,
    "lenType": 16,
    "lenVar": 40
   },
   "kernels_config": {
    "python": {
     "delete_cmd_postfix": "",
     "delete_cmd_prefix": "del ",
     "library": "var_list.py",
     "varRefreshCmd": "print(var_dic_list())"
    },
    "r": {
     "delete_cmd_postfix": ") ",
     "delete_cmd_prefix": "rm(",
     "library": "var_list.r",
     "varRefreshCmd": "cat(var_dic_list()) "
    }
   },
   "types_to_exclude": [
    "module",
    "function",
    "builtin_function_or_method",
    "instance",
    "_Feature"
   ],
   "window_display": false
  }
 },
 "nbformat": 4,
 "nbformat_minor": 2
}

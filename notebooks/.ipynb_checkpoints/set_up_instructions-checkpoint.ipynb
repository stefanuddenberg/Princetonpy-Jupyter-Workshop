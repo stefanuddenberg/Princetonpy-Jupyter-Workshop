{
 "cells": [
  {
   "cell_type": "markdown",
   "metadata": {
    "slideshow": {
     "slide_type": "slide"
    }
   },
   "source": [
    "# Setting up Jupyter Lab/Notebook"
   ]
  },
  {
   "cell_type": "markdown",
   "metadata": {
    "slideshow": {
     "slide_type": "slide"
    }
   },
   "source": [
    "# Caveats\n",
    "\n",
    "A few of the referenced functions (e.g., AnovaRM, Markdown calling Python variables, and anything involving live MATLAB or R code) require a little extra set up on one's personal machine, and will not run on a Binder instance of Jupyter. However, most everything else should."
   ]
  },
  {
   "cell_type": "markdown",
   "metadata": {
    "slideshow": {
     "slide_type": "slide"
    }
   },
   "source": [
    "# Getting set up"
   ]
  },
  {
   "cell_type": "markdown",
   "metadata": {
    "slideshow": {
     "slide_type": "slide"
    }
   },
   "source": [
    "## [Install Anaconda](https://www.anaconda.com/download/)\n",
    "- I'd recommend generally getting the latest version of Python; however, version 3.7 has some compatibility issues with some of my favorite packages, so I am sticking to 3.6 for now.\n",
    "- Use commands like this to install multiple versions of python simultaneously:\n",
    "    ```bash\n",
    "    # install scientific stack for Python 3 and 2. \n",
    "    conda create -n py36 python=3.6 anaconda\n",
    "    conda create -n py27 python=2.7 anaconda\n",
    "\n",
    "    # register py27 kernel - no need for \"source\" on windows\n",
    "    source activate py27\n",
    "    ipython kernel install\n",
    "\n",
    "    # same for py36, and install juptyerhub in the py36 env\n",
    "    source activate py36\n",
    "    ipython kernel install\n",
    "    pip install jupyterhub\n",
    "    ```"
   ]
  },
  {
   "cell_type": "markdown",
   "metadata": {
    "slideshow": {
     "slide_type": "subslide"
    }
   },
   "source": [
    "### Optional Psychopy environment (for behavioral scientists)\n",
    "- You can even install an environment specifically for [Psychopy](https://www.psychopy.org/) to keep things tidy.\n",
    "- Get the appropriate `.yml` file from [Gary Lupyan's github](https://github.com/lupyanlab/lab-computer/tree/master/anaconda-environments)\n",
    "- Save it somewhere as, say, `psychopy.yml`\n",
    "- Go to that location and run: `conda-env create -f psychopy.yml -n psychopy`\n",
    "- After that you can always use it via `source activate psychopy` (no need for `source` on Windows)\n",
    "- If `conda` has problems finding the version of the package listed in the `.yml` file, simply edit the file so that it isn't as specific in its version requirements for that package."
   ]
  },
  {
   "cell_type": "markdown",
   "metadata": {
    "slideshow": {
     "slide_type": "slide"
    }
   },
   "source": [
    "## Install necessary packages\n",
    "- `pip install insert_package_name_here`\n",
    "- You might have to preface that with `sudo` if you're on a Mac.\n",
    "- Alternatively, use `conda install insert_package_name_here` if you run into issues with pip\n",
    "- `conda install -c conda-forge insert_package_name_here` is also an option for certain packages.\n",
    "- Can also get started with `pip install requirements.txt` if there is a particular environment you'd like (e.g., the one in this repo)."
   ]
  },
  {
   "cell_type": "markdown",
   "metadata": {
    "slideshow": {
     "slide_type": "slide"
    }
   },
   "source": [
    "## Troubleshooting\n",
    "In the event that for some reason your Jupyter instance of Python isn't seeing your installed packages, this means that it's probably pointing to the wrong Python or the wrong path. First, diagnose the problem in Jupyter by running `!which python` (on Mac/Linux; `!where python` on Windows) and `import sys; sys.path`. The first command checks where it's looking for Python itself (using the terminal), while the second says where it's looking for packages. These answers should look the same from your own terminal as well -- if the answers differ between Jupyter and your terminal, then you've found your problem.  \n",
    "<br><br>\n",
    "You should be able to fix either problem by activating your chosen environment, and running `python -m ipykernel install --user`"
   ]
  },
  {
   "cell_type": "markdown",
   "metadata": {
    "hide_input": false,
    "slideshow": {
     "slide_type": "slide"
    }
   },
   "source": [
    "## Useful packages\n",
    "Depending on your goals, you may want some (or all) of the following packages. Some may already be installed via Anaconda.\n",
    "\n",
    "- some kind of plotting library\n",
    "    - altair\n",
    "    - bokeh\n",
    "    - plotnine (for a Python port of ggplot)    \n",
    "    - [pyviz](http://pyviz.org/)\n",
    "- [**ipypublish**](https://github.com/chrisjsewell/ipypublish)\n",
    "    - For generating scientific manuscripts with Jupyter.\n",
    "    - Feel free to use my template and edits to this package available [here](https://github.com/stefanuddenberg/psipypublish).\n",
    "    - I am currently using version 0.6.7. However, within the last month the package has been updated to at ver. 0.9.0. I can't speak to whether my template will work with higher versions, so feel free to just install the version I use with `pip install ipypublish==0.6.7`\n",
    "- jupyter\n",
    "- jupyter_contrib_nbextensions\n",
    "    - Run the following command for this after install: `jupyter contrib nbextension install --user`\n",
    "- jupyterthemes\n",
    "    - Use if you're not happy with the default aesthetics of the notebook\n",
    "    - Run at terminal for (most of) my aesthetic setup: `jt -t grade3 -fs 12 -tfs 12 -nfs 115 -cellw 88% -T`\n",
    "    - If you don't like it, you can always go back to the default: `jt -r`\n",
    "- [**jupytext**](https://github.com/mwouts/jupytext)\n",
    "    - Allows you to save your notebook in markdown and .py formats. Extremely useful.\n",
    "    - My config:\n",
    "    ```python\n",
    "    c.NotebookApp.contents_manager_class = \"jupytext.TextFileContentsManager\"\n",
    "    # Always pair ipynb notebooks to md and py files\n",
    "    c.ContentsManager.default_jupytext_formats = \"ipynb,md,py\"\n",
    "    # Use the percent format when saving as py\n",
    "    c.ContentsManager.preferred_jupytext_formats_save = \"py:percent\"\n",
    "    # Keep all metadata in other file types\n",
    "    c.ContentsManager.default_notebook_metadata_filter = \"all\"\n",
    "    c.ContentsManager.default_cell_metadata_filter = \"all\"\n",
    "    ```\n",
    "- **matlab_kernel** and **pymatbridge**\n",
    "    - For using MATLAB\n",
    "    - If pymatbridge doesn't work, go to YOUR_MATLAB_ROOT\\extern\\engines\\python and run `python setup.py install`\n",
    "- matplotlib\n",
    "- nbopen \n",
    "    - Used to associate .ipynb files with Jupyter in your file manager\n",
    "        - Linux/BSD: `python -m nbopen.install_xdg`\n",
    "        - Windows: `python -m nbopen.install_win`\n",
    "        - Mac: Clone the repository and run `./osx-install.sh`\n",
    "- numpy\n",
    "- pandas\n",
    "- pivottablejs\n",
    "- prettypandas\n",
    "- qgrid\n",
    "- **rpy2**\n",
    "    - For using R\n",
    "    - More instructions in relevant section below\n",
    "- scipy\n",
    "- seaborn\n",
    "- statsmodels\n",
    "- wes\n",
    "    - Optional package for Wes Anderson-style color palettes"
   ]
  },
  {
   "cell_type": "markdown",
   "metadata": {
    "slideshow": {
     "slide_type": "slide"
    }
   },
   "source": [
    "## Open Jupyter notebook from terminal or cmd\n",
    "-  Use the commands `jupyter lab` or `jupyter notebook`\n",
    "    - Make sure to cd into the directory you want to run it in (or at least a directory *higher* than the one you want; you can't go higher from within the notebook instance)\n",
    "    - You can switch between views by navigating to `http://localhost:8888/lab` or `http://localhost:8888/tree` respectively.\n",
    "    - The latest version of Jupyter lab at time of writing allows you to have a connected Python console to your notebook, and with [this repo](https://github.com/lckr/jupyterlab-variableInspector) you can even get a variable inspector (a la MATLAB or RStudio). While theming support isn't yet available for Jupyter lab, you can at least override the font settings for notebooks in the user settings."
   ]
  },
  {
   "cell_type": "markdown",
   "metadata": {
    "slideshow": {
     "slide_type": "slide"
    }
   },
   "source": [
    "# Lab extensions\n",
    "Enable useful extensions for Jupyter Lab. It's not as fully featured as Jupyter Notebook, and some may not work depending on your exact installation, but they are still useful.\n",
    "\n",
    "- [ipywidgets](https://github.com/jupyter-widgets/ipywidgets)\n",
    "- [latex](https://github.com/jupyterlab/jupyterlab-latex)\n",
    "- [plotly and other renderers](https://github.com/jupyterlab/jupyter-renderers)\n",
    "- [table of contents](https://github.com/jupyterlab/jupyterlab-toc)\n",
    "- [**variable inspector**](https://github.com/lckr/jupyterlab-variableInspector) — easily one of my favorites, but a little buggy and requires your notebook to be in \"Trusted\" mode\n",
    "- [jupyterlab_html](https://github.com/mflevine/jupyterlab_html) (for displaying HTML files)\n",
    "- [jupyterlab_snippets](https://github.com/QuentinAndre/jupyterlab_snippets) — doesn't currently work for me, but boy would it be useful. In the meantime, I've been using an external program called [Cacher](https://www.cacher.io/)\n",
    "- [code formatter](https://github.com/ryantam626/jupyterlab_code_formatter) — works great with [Black](https://github.com/ambv/black)\n",
    "- [jupyterlab_bokeh](https://github.com/bokeh/jupyterlab_bokeh)\n",
    "- [nbdime](https://github.com/jupyter/nbdime) — for diffing notebooks"
   ]
  },
  {
   "cell_type": "markdown",
   "metadata": {
    "slideshow": {
     "slide_type": "slide"
    }
   },
   "source": [
    "## Notebook extensions (nbextensions)\n",
    "Enable your favorite nbextensions for the Notebook view (mine are listed below).\n",
    "- Tree Filter\n",
    "- table_beautifier\n",
    "- Variable inspector\n",
    "- Codefolding\n",
    "- Codefolding in editor\n",
    "- Chrome clipboard\n",
    "- contrib_nbextensions_help_item\n",
    "- nbextensions dashboard tab\n",
    "- Collapsible Headings, with add a control, adjust size of toggle controls, gray bracketed ellipsis, command-mode, collapse with ToC2\n",
    "- Python Markdown\n",
    "    - must be trusted notebook to use properly -- enable trust at top-right of notebook\n",
    "- Table of Contents (2), with auto-number, sidebar, widen display, display toc as navigation menu, move title and menu left instead of center, and collapse\n",
    "    - can export notebook to HTML with table of contents with: `jupyter nbconvert --to html_toc FILENAME.ipynb`\n",
    "    - if you get an error that says \"No such module as 'pre_pymarkdown'\", then you will need to do the following:\n",
    "        - find \"pre_pymarkdown.py\" on your computer and add it to the PYTHONPATH environment variable\n",
    "        - add the following to your \"jupyter_nbconvert_config.py\" file:\n",
    "        ```python \n",
    "        c = get_config()\n",
    "        c.Exporter.preprocessors = ['pre_pymarkdown.PyMarkdownPreprocessor'] \n",
    "        ```\n",
    "- [Snippets](https://github.com/ipython-contrib/jupyter_contrib_nbextensions/tree/master/src/jupyter_contrib_nbextensions/nbextensions/snippets)\n",
    "    - Can modify `$(jupyter --data-dir)/nbextensions/snippets/snippets.json` to create boilerplate snippets of code or text you can insert into your notebooks (e.g., common imports, common functions, etc.)\n",
    "    - Note that this needs to be valid JSON, so you should use a tool list [JSONLint](https://jsonlint.com/) to make sure that your modifications will work.\n",
    "- Snippets menu\n",
    "    - Has huge list of popular snippets for scientific computing.\n",
    "- Hide input\n",
    "- Hide input all\n",
    "    - Check the documentation on these extensions to see how you can export to HTML and the like while respecting the hidden input!"
   ]
  },
  {
   "cell_type": "markdown",
   "metadata": {
    "slideshow": {
     "slide_type": "slide"
    }
   },
   "source": [
    "## Slideshow\n",
    "You can turn any Jupyter notebook into a slideshow!\n",
    "- Set up your slideshow layout for the notebook. From the toolbar: View --> Cell toolbar --> Slideshow\n",
    "    - For each cell, use the dropdown box toward the upper right corner to decide if it will be a slide (left-right arrows), sub-slide (up-down arrows), fragment (reveal on further button presses), notes, or skipped.\n",
    "- Make sure to have a complete copy of [reveal.js](https://github.com/hakimel/reveal.js/) in the folder with your notebook (in a folder called reveal.js)\n",
    "- Run the following from your command line: `jupyter nbconvert FILENAME.ipynb --to slides --reveal-prefix reveal.js`\n",
    "- That's it! Now you should have a .slides.html file that works great."
   ]
  }
 ],
 "metadata": {
  "hide_input": false,
  "jupytext": {
   "metadata_filter": {
    "cells": {
     "additional": "all"
    },
    "notebook": {
     "additional": "all"
    }
   },
   "text_representation": {
    "extension": ".py",
    "format_name": "percent",
    "format_version": "1.2",
    "jupytext_version": "0.8.6"
   }
  },
  "kernelspec": {
   "display_name": "Python 3",
   "language": "python",
   "name": "python3"
  },
  "language_info": {
   "codemirror_mode": {
    "name": "ipython",
    "version": 3
   },
   "file_extension": ".py",
   "mimetype": "text/x-python",
   "name": "python",
   "nbconvert_exporter": "python",
   "pygments_lexer": "ipython3",
   "version": "3.6.2"
  },
  "toc": {
   "nav_menu": {},
   "number_sections": true,
   "sideBar": true,
   "skip_h1_title": false,
   "toc_cell": false,
   "toc_position": {},
   "toc_section_display": "block",
   "toc_window_display": false
  },
  "varInspector": {
   "cols": {
    "lenName": 16,
    "lenType": 16,
    "lenVar": 40
   },
   "kernels_config": {
    "python": {
     "delete_cmd_postfix": "",
     "delete_cmd_prefix": "del ",
     "library": "var_list.py",
     "varRefreshCmd": "print(var_dic_list())"
    },
    "r": {
     "delete_cmd_postfix": ") ",
     "delete_cmd_prefix": "rm(",
     "library": "var_list.r",
     "varRefreshCmd": "cat(var_dic_list()) "
    }
   },
   "types_to_exclude": [
    "module",
    "function",
    "builtin_function_or_method",
    "instance",
    "_Feature"
   ],
   "window_display": false
  }
 },
 "nbformat": 4,
 "nbformat_minor": 2
}

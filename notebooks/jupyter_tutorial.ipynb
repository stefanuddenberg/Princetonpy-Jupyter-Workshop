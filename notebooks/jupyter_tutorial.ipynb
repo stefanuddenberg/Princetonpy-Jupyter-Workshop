{
 "cells": [
  {
   "cell_type": "markdown",
   "metadata": {},
   "source": [
    "# Jupyter Lab Tutorial"
   ]
  },
  {
   "cell_type": "markdown",
   "metadata": {},
   "source": [
    "# Window notes\n",
    "At the far left of the screen you can click on the associated icons to see:\n",
    "- the file browser (which works like a fully functioning file browser)\n",
    "- which notebooks are currently running\n",
    "- the command palette\n",
    "- cell metadata\n",
    "- open tabs\n",
    "- and more (if you have extensions installed)"
   ]
  },
  {
   "cell_type": "markdown",
   "metadata": {},
   "source": [
    "# Kernels\n",
    "Using the main launcher view, you can create a new terminal or new notebooks for any kernel you have installed. There are [over 120 kernels](https://github.com/jupyter/jupyter/wiki/Jupyter-kernels) available. These include R, MATLAB, and Julia.  \n",
    "\n",
    "You can make a new tab by pressing the `+` button toward the top left of the screen. "
   ]
  },
  {
   "cell_type": "markdown",
   "metadata": {},
   "source": [
    "# Views\n",
    "- Open and view multiple files at once by simply dragging tabs into different sides or corners of the body of the window.\n",
    "- Open multiple views into the same file by right clicking on the tab and selecting \"New View for Notebook\".\n",
    "- Open a dedicated view into the output of a cell by right-clicking on the output and selecting \"Create New View for Output\"."
   ]
  },
  {
   "cell_type": "markdown",
   "metadata": {},
   "source": [
    "# Cells\n",
    "\n",
    "- All Jupyter notebooks are made up of _cells_. Cells come in two varieties: _code_ and _markdown_.  \n",
    "\n",
    "- Code cells contain executable code. Markdown cells contain multimedia information such as explanatory text, website links, images, and video, written in markdown.  \n",
    "\n",
    "- Both types of cells can be _executed_ using the \"play\" button in the toolbar toward the top of the notebook, or using the shortcut `Ctrl+Enter` (Windows) or `Cmd+Enter` (Mac).[^1]\n",
    "\n",
    "- Change the type of cell by using the dropdown box toward the top of the notebook, or using `Esc, M` for markdown and `Esc, Y` for code (that means pressing Escape _then_ M, etc.)\n",
    "\n",
    "[^1]: Cells can be executed out of order, so best practice when writing a notebook is to ensure that your results are reproducible by running all cells from top to bottom. Requiring that the user run cells out of order is a recipe for disaster."
   ]
  },
  {
   "cell_type": "markdown",
   "metadata": {},
   "source": [
    "# Helpful shortcuts\n",
    "All of the below commands are for Windows installations. Mac will likely substitute `Cmd` for `Ctrl`.\n",
    "- While coding, `Shift+Tab` will bring up help for your current function\n",
    "- `Ctrl+Enter` executes the current cell, keeping your focus on it\n",
    "- `Shift+Enter` executes the current cell, and moves you down to the next cell\n",
    "- `Alt+Enter` executes the current cell AND makes a new one below\n",
    "- `Esc` brings you to command mode, where you can do a number of things:\n",
    "    - `A` makes a new cell above\n",
    "    - `B` makes a new cell below\n",
    "    - `D D` (that's `D` twice) deletes a cell\n",
    "    - `X` cuts selected cells\n",
    "    - `C` copies the cells\n",
    "    - `V` pastes the cells\n",
    "    - `Y` turns the cell into a code cell\n",
    "    - `M` turns the cell into a markdown cell\n",
    "- Jupyter notebook only: `CTRL+SHIFT+P` brings up the command palette, with all available commands\n",
    "\n",
    "<div class=\"alert alert-block alert-info\">\n",
    "You can also view and edit such shortcuts from the \"Help\" menu at the top of the screen in the notebook view, or with the art palette icon at the left of the screen in the lab view.\n",
    "</div>"
   ]
  },
  {
   "cell_type": "markdown",
   "metadata": {},
   "source": [
    "# Useful extensions\n",
    "- [Manager](https://github.com/jupyter-widgets/ipywidgets/tree/master/packages/jupyterlab-manager)\n",
    "- [Variable inspector](https://github.com/lckr/jupyterlab-variableInspector): a must have for a more complete IDE experience.\n",
    "- [LaTeX support](https://github.com/jupyterlab/jupyterlab-latex)\n",
    "- [Plotly](https://github.com/jupyterlab/jupyter-renderers)\n",
    "- [Table of contents](https://github.com/jupyterlab/jupyterlab-toc)\n",
    "- [PyViz](https://github.com/pyviz/pyviz_comms)"
   ]
  },
  {
   "cell_type": "markdown",
   "metadata": {},
   "source": [
    "# Debugging in Jupyter Notebooks\n",
    "Use `set_trace()` where you want the debugger to start.<br>\n",
    "'n' moves onto the next line<br>\n",
    "'c' continues execution of the script"
   ]
  },
  {
   "cell_type": "code",
   "execution_count": null,
   "metadata": {},
   "outputs": [],
   "source": [
    "from IPython.core.debugger import set_trace\n",
    "\n",
    "\n",
    "def increment_value(a):\n",
    "    a += 1\n",
    "    set_trace()\n",
    "    print(a)\n",
    "\n",
    "    \n",
    "increment_value(3)"
   ]
  },
  {
   "cell_type": "markdown",
   "metadata": {},
   "source": [
    "# Magic commands\n",
    "These are useful pieces of code that perform some common operations within Jupyter."
   ]
  },
  {
   "cell_type": "markdown",
   "metadata": {},
   "source": [
    "## lsmagic\n",
    "See all magic commands."
   ]
  },
  {
   "cell_type": "code",
   "execution_count": null,
   "metadata": {},
   "outputs": [],
   "source": [
    "lsmagic"
   ]
  },
  {
   "cell_type": "markdown",
   "metadata": {},
   "source": [
    "## %who\n",
    "See a list of current variables in global scope with . Can also specify a data type thereafter."
   ]
  },
  {
   "cell_type": "code",
   "execution_count": null,
   "metadata": {},
   "outputs": [],
   "source": [
    "%who"
   ]
  },
  {
   "cell_type": "markdown",
   "metadata": {},
   "source": [
    "## Terminal commands\n",
    "Run any command you would run in your computer's terminal by prefacing the command with `!`"
   ]
  },
  {
   "cell_type": "code",
   "execution_count": null,
   "metadata": {},
   "outputs": [],
   "source": [
    "!conda --version"
   ]
  },
  {
   "cell_type": "markdown",
   "metadata": {},
   "source": [
    "# Other resources\n",
    "See [here](https://www.youtube.com/watch?v=Gzun8PpyBCo) for a long (but excellent) video tutorial introduction to Jupyter lab. Attendant notebooks can be found [here](https://github.com/jupyterlab/scipy2018-jupyterlab-tutorial)."
   ]
  }
 ],
 "metadata": {
  "hide_input": false,
  "jupytext": {
   "metadata_filter": {
    "cells": {
     "additional": "all"
    },
    "notebook": {
     "additional": "all"
    }
   },
   "text_representation": {
    "extension": ".Rmd",
    "format_name": "rmarkdown",
    "format_version": "1.0",
    "jupytext_version": "0.8.6"
   }
  },
  "kernelspec": {
   "display_name": "Python 3",
   "language": "python",
   "name": "python3"
  },
  "language_info": {
   "codemirror_mode": {
    "name": "ipython",
    "version": 3
   },
   "file_extension": ".py",
   "mimetype": "text/x-python",
   "name": "python",
   "nbconvert_exporter": "python",
   "pygments_lexer": "ipython3",
   "version": "3.7.2"
  },
  "toc": {
   "base_numbering": 1,
   "nav_menu": {},
   "number_sections": true,
   "sideBar": true,
   "skip_h1_title": true,
   "title_cell": "Table of Contents",
   "title_sidebar": "Contents",
   "toc_cell": false,
   "toc_position": {},
   "toc_section_display": true,
   "toc_window_display": true
  },
  "varInspector": {
   "cols": {
    "lenName": 16,
    "lenType": 16,
    "lenVar": 40
   },
   "kernels_config": {
    "python": {
     "delete_cmd_postfix": "",
     "delete_cmd_prefix": "del ",
     "library": "var_list.py",
     "varRefreshCmd": "print(var_dic_list())"
    },
    "r": {
     "delete_cmd_postfix": ") ",
     "delete_cmd_prefix": "rm(",
     "library": "var_list.r",
     "varRefreshCmd": "cat(var_dic_list()) "
    }
   },
   "types_to_exclude": [
    "module",
    "function",
    "builtin_function_or_method",
    "instance",
    "_Feature"
   ],
   "window_display": false
  }
 },
 "nbformat": 4,
 "nbformat_minor": 2
}

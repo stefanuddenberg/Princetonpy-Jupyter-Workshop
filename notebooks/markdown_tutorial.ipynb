{
 "cells": [
  {
   "cell_type": "markdown",
   "metadata": {},
   "source": [
    "# Markdown Tutorial\n",
    "Double-click on cells to see how they were written!"
   ]
  },
  {
   "cell_type": "markdown",
   "metadata": {},
   "source": [
    "# Headings\n",
    "Headings are made with preceding \"#\" signs. `<h1>` is #, `<h2>` is ##, etc."
   ]
  },
  {
   "cell_type": "markdown",
   "metadata": {},
   "source": [
    "# White space\n",
    "Force new blank lines with `<br>` . Can also place two empty spaces at the end of a line to force a line break."
   ]
  },
  {
   "cell_type": "markdown",
   "metadata": {},
   "source": [
    "# Emphasis\n",
    "*Italics* are made by surrounding a word or phrase with asterisks, or with underscores, _like so_.\n",
    "<br>\n",
    "\n",
    "**Bold** words are made by surrounding a word or phrase with 2 asterisks/underscores on each end.\n",
    "<br>\n",
    "\n",
    "**_You can make a phrase both bold and italic_** by combining the above, or by using 3 stars/underscores instead."
   ]
  },
  {
   "cell_type": "markdown",
   "metadata": {},
   "source": [
    "# Unordered Lists\n",
    "- Dashes make bullets\n",
    "    - And tabbing first makes a sub-bullet\n",
    "        - You can also just use a single space instead of a tab character; just be consistent."
   ]
  },
  {
   "cell_type": "markdown",
   "metadata": {},
   "source": [
    "## Ordered Lists\n",
    "1. You can make ordered lists with a number followed by a dot.\n",
    "2. Here's another point. "
   ]
  },
  {
   "cell_type": "markdown",
   "metadata": {},
   "source": [
    "## Blockquotes\n",
    "> Put a \">\" before a line to turn it into a blockquote. "
   ]
  },
  {
   "cell_type": "markdown",
   "metadata": {},
   "source": [
    "## Code \n",
    "Unhighlighted code goes between backticks: `this is code`\n",
    "<br>\n",
    "\n",
    "And you can define blocks of code by sandwiching them between 3 backticks on either end (you can even define syntax highlighting!)\n",
    "<br>\n",
    "\n",
    "```python\n",
    "x = [1, 2, 3]\n",
    "for i in x:\n",
    "    print(i)\n",
    "```"
   ]
  },
  {
   "cell_type": "markdown",
   "metadata": {},
   "source": [
    "## Hyperlinks and images\n",
    "[Hyperlinks go in square brackets](https://www.wikiwand.com/en/Kaizen), with the link itself going in parentheses immediately after (no whitespace allowed between neighboring brackets)!\n",
    "<br><br>\n",
    "\n",
    "Images are set up just like hyperlinks, but with an exclamation point in front. The writing in square brackets serves as the alt-text for the image.\n",
    "<br><br>\n",
    "![Princeton Psychology Department](https://www.onlinepsychologydegree.info/wp-content/uploads/2015/01/princeton.jpg)"
   ]
  },
  {
   "cell_type": "markdown",
   "metadata": {},
   "source": [
    "# Embed HTML, including video"
   ]
  },
  {
   "cell_type": "code",
   "execution_count": 2,
   "metadata": {},
   "outputs": [
    {
     "data": {
      "text/html": [
       "<iframe width='560' height='315' src='https://www.youtube.com/embed/HW29067qVWk' frameborder='0' allowfullscreen></iframe>"
      ],
      "text/plain": [
       "<IPython.core.display.HTML object>"
      ]
     },
     "metadata": {},
     "output_type": "display_data"
    }
   ],
   "source": [
    "%%HTML\n",
    "<iframe width='560' height='315' src='https://www.youtube.com/embed/HW29067qVWk' frameborder='0' allowfullscreen></iframe>"
   ]
  },
  {
   "cell_type": "markdown",
   "metadata": {},
   "source": [
    "# Live website embedding"
   ]
  },
  {
   "cell_type": "code",
   "execution_count": 3,
   "metadata": {},
   "outputs": [],
   "source": [
    "# %%HTML\n",
    "# <iframe src=\"https://fiddle.jshell.net/rahonavis75/ed4486f9/show/\" width=\"800\" height=\"500\">"
   ]
  },
  {
   "cell_type": "markdown",
   "metadata": {},
   "source": [
    "# Latex\n",
    "Sandwich your LaTeX between two dollar signs. \n",
    "<br>\n",
    "$$\n",
    "\\begin{equation*}\n",
    "\\left( \\sum_{k=1}^n a_k b_k \\right)^2 \\leq \\left( \\sum_{k=1}^n a_k^2 \\right) \\left( \\sum_{k=1}^n b_k^2 \\right)\n",
    "\\end{equation*}\n",
    "$$"
   ]
  },
  {
   "cell_type": "markdown",
   "metadata": {},
   "source": [
    "# Embedding Python code in Markdown\n",
    "Note that this only works in Jupyter Notebook (not Lab) and only if you have Latex and [Python Markdown](https://jupyter-contrib-nbextensions.readthedocs.io/en/latest/nbextensions/python-markdown/readme.html) correctly configured."
   ]
  },
  {
   "cell_type": "code",
   "execution_count": 4,
   "metadata": {},
   "outputs": [],
   "source": [
    "foo = 100"
   ]
  },
  {
   "cell_type": "markdown",
   "metadata": {},
   "source": [
    "The value of `foo` is {{foo}}"
   ]
  }
 ],
 "metadata": {
  "jupytext": {
   "main_language": "python",
   "metadata_filter": {
    "cells": {
     "additional": "all"
    },
    "notebook": {
     "additional": "all"
    }
   },
   "text_representation": {
    "extension": ".md",
    "format_name": "markdown",
    "format_version": "1.0",
    "jupytext_version": "0.8.6"
   }
  },
  "kernelspec": {
   "display_name": "Python 3",
   "language": "python",
   "name": "python3"
  },
  "language_info": {
   "codemirror_mode": {
    "name": "ipython",
    "version": 3
   },
   "file_extension": ".py",
   "mimetype": "text/x-python",
   "name": "python",
   "nbconvert_exporter": "python",
   "pygments_lexer": "ipython3",
   "version": "3.6.2"
  }
 },
 "nbformat": 4,
 "nbformat_minor": 2
}

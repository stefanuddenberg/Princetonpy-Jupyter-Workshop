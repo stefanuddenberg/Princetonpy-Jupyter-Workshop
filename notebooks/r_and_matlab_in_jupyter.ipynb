{
 "cells": [
  {
   "cell_type": "markdown",
   "metadata": {},
   "source": [
    "# Using R and MATLAB in Jupyter with Python"
   ]
  },
  {
   "cell_type": "markdown",
   "metadata": {},
   "source": [
    "# Run R code\n",
    "Note that this requires running from a Python 3 instance of Jupyter (in my case, at least)."
   ]
  },
  {
   "cell_type": "markdown",
   "metadata": {},
   "source": [
    "## R for Jupyter installation instructions:\n",
    "In theory, you should just be able to run this line and be all set, but it didn't work for me: `conda install -c r r-essentials`\n",
    "<br><br>\n",
    "If that didn't work, go through these steps:\n",
    "- In R (not RStudio), run the following:\n",
    "```R\n",
    "install.packages('devtools')\n",
    "devtools::install_github('IRkernel/IRkernel')\n",
    "IRkernel::installspec()  # to register the kernel in the current R installation\n",
    "```\n",
    "- make sure you have R added to your PATH (in my case, C:\\Program Files\\R\\R-3.3.3\\bin\\x64)\n",
    "    - _Windows_: Need R_HOME (same path as above) and R_USER (just your windows user name) added as separate environment vars\n",
    "- Install libraries like ggplot2 directly into R itself, not RStudio: `install.packages('ggplot2', dependencies=TRUE)`\n",
    "- _Mac/Linux_: Run `pip install rpy2` from your command line/terminal\n",
    "    - _Windows_: [get appropriate installation from here](http://www.lfd.uci.edu/~gohlke/pythonlibs/#rpy2), and run `pip install rpy2‑2.8.6‑cp36‑cp36m‑win_amd64.whl` or whatever your .whl file is called from within the directory that has the file.\n",
    "        - You may also need to add the following two directories to your PATH: C:\\Anaconda3\\Library\\mingw-w64\\bin; C:\\Anaconda3\\Library\\mingw-w64\\lib\n",
    "- [See here for further information if needed](https://github.com/IRkernel/IRkernel)"
   ]
  },
  {
   "cell_type": "markdown",
   "metadata": {},
   "source": [
    "# Example Python to R pipeline\n",
    "First, make some example data in Python."
   ]
  },
  {
   "cell_type": "code",
   "execution_count": 1,
   "metadata": {},
   "outputs": [],
   "source": [
    "import pandas as pd\n",
    "\n",
    "df = pd.DataFrame(\n",
    "    {\n",
    "        \"Letter\": [\"a\", \"a\", \"a\", \"b\", \"b\", \"b\", \"c\", \"c\", \"c\"],\n",
    "        \"X\": [4, 3, 5, 2, 1, 7, 7, 5, 9],\n",
    "        \"Y\": [0, 4, 3, 6, 7, 10, 11, 9, 13],\n",
    "        \"Z\": [1, 2, 3, 1, 2, 3, 1, 2, 3],\n",
    "    }\n",
    ")"
   ]
  },
  {
   "cell_type": "markdown",
   "metadata": {},
   "source": [
    "Load extension allowing one to run R code from within a Python notebook."
   ]
  },
  {
   "cell_type": "code",
   "execution_count": 2,
   "metadata": {},
   "outputs": [],
   "source": [
    "%load_ext rpy2.ipython"
   ]
  },
  {
   "cell_type": "markdown",
   "metadata": {},
   "source": [
    "Do stuff in R with cell or line magics. \"-i\" imports to R, \"-o\" outputs from R back to Python."
   ]
  },
  {
   "cell_type": "code",
   "execution_count": null,
   "metadata": {},
   "outputs": [],
   "source": [
    "# %%R\n",
    "# install.packages(\"ggplot2\", dep=TRUE)\n",
    "# install.packages(\"tidyr\", dep=TRUE)\n",
    "# install.packages(\"dplyr\", dep=TRUE)\n",
    "# install.packages(\"tidyverse\", dep=TRUE)"
   ]
  },
  {
   "cell_type": "code",
   "execution_count": 5,
   "metadata": {},
   "outputs": [
    {
     "name": "stderr",
     "output_type": "stream",
     "text": [
      "C:\\Users\\sdu2\\AppData\\Local\\Continuum\\anaconda3\\lib\\site-packages\\rpy2\\robjects\\pandas2ri.py:191: FutureWarning: from_items is deprecated. Please use DataFrame.from_dict(dict(items), ...) instead. DataFrame.from_dict(OrderedDict(items)) may be used to preserve the key order.\n",
      "  res = PandasDataFrame.from_items(items)\n"
     ]
    },
    {
     "data": {
      "image/png": "[encoded data removed]"
     },
     "metadata": {},
     "output_type": "display_data"
    }
   ],
   "source": [
    "%%R -i df\n",
    "library(\"ggplot2\")\n",
    "ggplot(data = df) + geom_point(aes(x = X, y = Y, color = Letter, size = Z))"
   ]
  },
  {
   "cell_type": "code",
   "execution_count": 4,
   "metadata": {},
   "outputs": [],
   "source": [
    "%%R\n",
    "install.packages(\"rlang\")"
   ]
  },
  {
   "cell_type": "markdown",
   "metadata": {},
   "source": [
    "# Run Javascript code"
   ]
  },
  {
   "cell_type": "code",
   "execution_count": 6,
   "metadata": {},
   "outputs": [
    {
     "data": {
      "application/javascript": [
       "console.log('hey!')"
      ],
      "text/plain": [
       "<IPython.core.display.Javascript object>"
      ]
     },
     "metadata": {},
     "output_type": "display_data"
    }
   ],
   "source": [
    "%%javascript\n",
    "console.log('hey!')"
   ]
  }
 ],
 "metadata": {
  "jupytext": {
   "metadata_filter": {
    "cells": {
     "additional": "all"
    },
    "notebook": {
     "additional": "all"
    }
   },
   "text_representation": {
    "extension": ".md",
    "format_name": "markdown",
    "format_version": "1.0",
    "jupytext_version": "0.8.6"
   }
  },
  "kernelspec": {
   "display_name": "Python 3",
   "language": "python",
   "name": "python3"
  },
  "language_info": {
   "codemirror_mode": {
    "name": "ipython",
    "version": 3
   },
   "file_extension": ".py",
   "mimetype": "text/x-python",
   "name": "python",
   "nbconvert_exporter": "python",
   "pygments_lexer": "ipython3",
   "version": "3.6.2"
  }
 },
 "nbformat": 4,
 "nbformat_minor": 2
}
